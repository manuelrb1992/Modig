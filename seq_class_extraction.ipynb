{
  "nbformat": 4,
  "nbformat_minor": 0,
  "metadata": {
    "colab": {
      "provenance": []
    },
    "kernelspec": {
      "name": "ir",
      "display_name": "R"
    },
    "language_info": {
      "name": "R"
    }
  },
  "cells": [
    {
      "cell_type": "markdown",
      "source": [
        "This code will append all the files ending with '.sequence_class_scores.tsv' from the Sei outputs and will extract the sequence class and sequence class scores into a single file. Perform this step in R or using a R runtime in Google colab"
      ],
      "metadata": {
        "id": "DmaGZOwDM9Vt"
      }
    },
    {
      "cell_type": "code",
      "source": [
        "##Sequence class extraction\n",
        "install.packages('openxlsx')\n",
        "install.packages('dplyr')\n",
        "\n",
        "getwd()\n",
        "ls()\n",
        "\n",
        "library(openxlsx)\n",
        "library(dplyr)\n",
        "\n",
        "# Specify the folder path\n",
        "folder_path <- '/content/drive/MyDrive/BimaProject/Modig1/vcf/exome2/chromatin-profiles-hdf5/'\n",
        "\n",
        "# Get a list of files in the folder ending with '.sequence_class_scores.tsv'\n",
        "files <- list.files(path = folder_path, pattern = \"\\\\.sequence_class_scores.tsv$\", full.names = TRUE)\n",
        "\n",
        "# Initialize an empty list to store dataframes\n",
        "dataframes_list <- list()\n",
        "\n",
        "# Loop through each file\n",
        "for (file_path in files) {\n",
        "  # Extract sample name from the file name\n",
        "  sample_name <- gsub('.sequence_class_scores.tsv', '', basename(file_path))\n",
        "\n",
        "  # Read the TSV file\n",
        "  sei_data <- read.table(file_path, sep='\\t', header=TRUE)\n",
        "\n",
        "  # Select columns from the 10th column onwards\n",
        "  df <- sei_data[, 11:ncol(sei_data)]\n",
        "\n",
        "  # Function to find extreme positive or negative value in a row\n",
        "  find_extreme <- function(row, col_names) {\n",
        "    max_value <- max(row, na.rm = TRUE)\n",
        "    min_value <- min(row, na.rm = TRUE)\n",
        "\n",
        "    # Determine if extreme value is positive or negative\n",
        "    if (!is.na(min_value) && abs(min_value) > max_value) {\n",
        "      return(list(value = min_value, column = col_names[which.min(row)]))\n",
        "    } else {\n",
        "      return(list(value = max_value, column = col_names[which.max(row)]))\n",
        "    }\n",
        "  }\n",
        "\n",
        "  # Apply the function to each row of the dataframe\n",
        "  extreme_values <- t(sapply(1:nrow(df), function(i) find_extreme(df[i,], names(df))))\n",
        "\n",
        "  # Convert matrix to data frame\n",
        "  df2 <- as.data.frame(extreme_values)\n",
        "  custom_headers <- c(\"Sequence class scores\", \"Sequence class\")  # Custom headers\n",
        "  colnames(df2) <- custom_headers\n",
        "\n",
        "  # Extract columns 3-8 from df\n",
        "  subset_df <- sei_data[, 3:8]\n",
        "\n",
        "  # Merge subset_df with df2\n",
        "  merged_df <- cbind(subset_df, df2)\n",
        "\n",
        "  # Combine the sample name with the data\n",
        "  merged_df$Sample <- sample_name\n",
        "\n",
        "  # Append the dataframe to the list\n",
        "  dataframes_list[[sample_name]] <- merged_df\n",
        "}\n",
        "\n",
        "# Append all dataframes into one\n",
        "final_df <- bind_rows(dataframes_list)\n",
        "\n",
        "# Specify the output file path\n",
        "output_file_path <- file.path(folder_path, 'appended_sequence_class_scores_exome.xlsx')\n",
        "\n",
        "# Save dataframe as an Excel file\n",
        "write.xlsx(final_df, output_file_path)\n",
        "\n",
        "# ... (Previous code remains unchanged)\n",
        "\n",
        "# Print the number of rows for each sequence class score file\n",
        "for (file_path in files) {\n",
        "  sei_data <- read.table(file_path, sep='\\t', header=TRUE)\n",
        "  sample_name <- gsub('.sequence_class_scores.tsv', '', basename(file_path))\n",
        "  num_rows <- nrow(sei_data)\n",
        "  cat(\"Number of rows in\", sample_name, \":\", num_rows, \"\\n\")\n",
        "}\n",
        "\n",
        "# Print the number of rows for each unique sample name in final_df\n",
        "unique_sample_names <- unique(final_df$Sample)\n",
        "\n",
        "for (sample_name in unique_sample_names) {\n",
        "  num_rows_for_sample <- sum(final_df$Sample == sample_name)\n",
        "  cat(\"Final df: number of rows for\", sample_name, \":\", num_rows_for_sample, \"\\n\")\n",
        "}\n",
        "\n"
      ],
      "metadata": {
        "colab": {
          "base_uri": "https://localhost:8080/",
          "height": 742
        },
        "id": "_9a-7yGpoj60",
        "outputId": "94a23a2c-93a7-4696-d911-b4b99eab7557"
      },
      "execution_count": null,
      "outputs": [
        {
          "output_type": "stream",
          "name": "stderr",
          "text": [
            "Installing package into ‘/usr/local/lib/R/site-library’\n",
            "(as ‘lib’ is unspecified)\n",
            "\n",
            "also installing the dependency ‘Rcpp’\n",
            "\n",
            "\n",
            "Installing package into ‘/usr/local/lib/R/site-library’\n",
            "(as ‘lib’ is unspecified)\n",
            "\n"
          ]
        },
        {
          "output_type": "display_data",
          "data": {
            "text/html": [
              "'/content'"
            ],
            "text/markdown": "'/content'",
            "text/latex": "'/content'",
            "text/plain": [
              "[1] \"/content\""
            ]
          },
          "metadata": {}
        },
        {
          "output_type": "display_data",
          "data": {
            "text/html": [],
            "text/markdown": "",
            "text/latex": "",
            "text/plain": [
              "character(0)"
            ]
          },
          "metadata": {}
        },
        {
          "output_type": "stream",
          "name": "stderr",
          "text": [
            "\n",
            "Attaching package: ‘dplyr’\n",
            "\n",
            "\n",
            "The following objects are masked from ‘package:stats’:\n",
            "\n",
            "    filter, lag\n",
            "\n",
            "\n",
            "The following objects are masked from ‘package:base’:\n",
            "\n",
            "    intersect, setdiff, setequal, union\n",
            "\n",
            "\n"
          ]
        },
        {
          "output_type": "stream",
          "name": "stdout",
          "text": [
            "Number of rows in sorted.sample_2A_vs_2C : 255 \n",
            "Number of rows in sorted.sample_2B_vs_2C : 461 \n",
            "Number of rows in sorted.sample_3A_vs_3C : 302 \n",
            "Number of rows in sorted.sample_3B_vs_3C : 1027 \n",
            "Number of rows in sorted.sample_6B_vs_6C : 3883 \n",
            "Number of rows in sorted.sample_8B_vs_8C : 462 \n",
            "Number of rows in sorted.sample_9A_vs_9C : 41 \n",
            "Number of rows in sorted.sample_9B_vs_9C : 362 \n",
            "Final df: number of rows for sorted.sample_2A_vs_2C : 255 \n",
            "Final df: number of rows for sorted.sample_2B_vs_2C : 461 \n",
            "Final df: number of rows for sorted.sample_3A_vs_3C : 302 \n",
            "Final df: number of rows for sorted.sample_3B_vs_3C : 1027 \n",
            "Final df: number of rows for sorted.sample_6B_vs_6C : 3883 \n",
            "Final df: number of rows for sorted.sample_8B_vs_8C : 462 \n",
            "Final df: number of rows for sorted.sample_9A_vs_9C : 41 \n",
            "Final df: number of rows for sorted.sample_9B_vs_9C : 362 \n"
          ]
        }
      ]
    },
    {
      "cell_type": "markdown",
      "source": [
        "This script will merge the appended file from the previous step with your dataset, set  the parameters you want to match accordingly. The output generated should have the functional annotation including Sequence class and sequence class scores"
      ],
      "metadata": {
        "id": "SR3DMrtsOtpl"
      }
    },
    {
      "cell_type": "code",
      "source": [
        "########### Updated: Annotation to sei_seq_class_scores (R) 03/06/2024\n",
        "\n",
        "import pandas as pd\n",
        "\n",
        "# Read the data from the excel files\n",
        "sei_data = pd.read_excel('/content/drive/MyDrive/BimaProject/Modig1/vcf/exome2/chromatin-profiles-hdf5/appended_sequence_class_scores_exome.xlsx')\n",
        "file2_data = pd.read_excel('/content/drive/MyDrive/BimaProject/Modig1/Merged_data_exome_filtered.xlsx')\n",
        "\n",
        "# Remove 'sorted.sample_' prefix from the 'Sample' column in sei_data\n",
        "sei_data['Sample'] = sei_data['Sample'].str.replace('sorted.sample_', '')\n",
        "\n",
        "# Count of rows per sample after modifying sample names\n",
        "count_after_modification = sei_data.groupby('Sample').size().reset_index(name='Count_after_modification')\n",
        "\n",
        "# Print the count after modifying sample names\n",
        "print(\"\\nCount of rows per sample after modifying sample names:\")\n",
        "print(count_after_modification)\n",
        "\n",
        "# Extract relevant columns for merging from both files\n",
        "sei_data_subset = sei_data[['chrom', 'pos','ref', 'alt','Sequence class scores', 'Sequence class', 'Sample']]\n",
        "file2_data_subset = file2_data[['Variant','Chr', 'Start', 'REF allele', 'ALT allele', 'Gene','GeneID', 'Type','BioType', 'Freq ALT tumor', 'Sample']]\n",
        "\n",
        "# Merge dataframes based on matching columns\n",
        "merged_data = pd.merge(sei_data_subset, file2_data_subset, how='inner',\n",
        "                       left_on=['chrom', 'pos','ref', 'alt', 'Sample'],\n",
        "                       right_on=['Chr', 'Start','REF allele', 'ALT allele','Sample'])\n",
        "\n",
        "# Drop duplicate columns from the merge\n",
        "merged_data = merged_data.drop(['Chr', 'Start','REF allele', 'ALT allele'], axis=1)\n",
        "\n",
        "# Count of rows per sample before removing values\n",
        "count_before = merged_data.groupby('Sample').size().reset_index(name='Count_before')\n",
        "\n",
        "# Save the result to a new excel file\n",
        "merged_data.to_excel('/content/drive/MyDrive/BimaProject/Modig1/latest2_annotated_exome_endoseq.xlsx', index=False)\n",
        "\n",
        "# Display counts before and after\n",
        "print(\"Count of rows per sample after merging files values:\")\n",
        "print(count_before)\n"
      ],
      "metadata": {
        "id": "EeTekhzEfinR",
        "colab": {
          "base_uri": "https://localhost:8080/"
        },
        "outputId": "b600e642-b667-4bc4-e3ce-c4c595a5d531"
      },
      "execution_count": null,
      "outputs": [
        {
          "output_type": "stream",
          "name": "stdout",
          "text": [
            "\n",
            "Count of rows per sample after modifying sample names:\n",
            "     Sample  Count_after_modification\n",
            "0  2A_vs_2C                       255\n",
            "1  2B_vs_2C                       461\n",
            "2  3A_vs_3C                       302\n",
            "3  3B_vs_3C                      1027\n",
            "4  6B_vs_6C                      3883\n",
            "5  8B_vs_8C                       462\n",
            "6  9A_vs_9C                        41\n",
            "7  9B_vs_9C                       362\n",
            "Count of rows per sample after merging files values:\n",
            "     Sample  Count_before\n",
            "0  2A_vs_2C           255\n",
            "1  2B_vs_2C           461\n",
            "2  3A_vs_3C           302\n",
            "3  3B_vs_3C          1027\n",
            "4  6B_vs_6C          3883\n",
            "5  8B_vs_8C           462\n",
            "6  9A_vs_9C            41\n",
            "7  9B_vs_9C           362\n"
          ]
        }
      ]
    },
    {
      "cell_type": "code",
      "execution_count": null,
      "metadata": {
        "id": "dewQ4oxyMyI9"
      },
      "outputs": [],
      "source": []
    }
  ]
}