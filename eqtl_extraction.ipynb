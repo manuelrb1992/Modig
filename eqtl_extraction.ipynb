{
  "nbformat": 4,
  "nbformat_minor": 0,
  "metadata": {
    "colab": {
      "provenance": []
    },
    "kernelspec": {
      "name": "python3",
      "display_name": "Python 3"
    },
    "language_info": {
      "name": "python"
    }
  },
  "cells": [
    {
      "cell_type": "markdown",
      "source": [
        "This notebook will extract eQTLs from the GTEx v.8 dataset, after you should intersect the generated file with your dataset"
      ],
      "metadata": {
        "id": "X-n5a_NdACaf"
      }
    },
    {
      "cell_type": "code",
      "execution_count": null,
      "metadata": {
        "id": "1XvyX8fv_7z0"
      },
      "outputs": [],
      "source": [
        "from google.colab import drive\n",
        "drive.mount('/content/drive')"
      ]
    },
    {
      "cell_type": "code",
      "execution_count": null,
      "metadata": {
        "id": "sgO9gMOhb9m6"
      },
      "outputs": [],
      "source": [
        "from collections import defaultdict\n",
        "import glob\n",
        "import os\n",
        "\n",
        "import numpy as np\n",
        "import pandas as pd\n"
      ]
    },
    {
      "cell_type": "markdown",
      "metadata": {
        "id": "GJA392KSb9m-"
      },
      "source": [
        "Download and process the [GTEx v8 data](https://storage.googleapis.com/adult-gtex/bulk-qtl/v8/single-tissue-cis-qtl/GTEx_Analysis_v8_eQTL.tar) and [GENCODE transcript .gtf file](https://ftp.ebi.ac.uk/pub/databases/gencode/Gencode_human/release_26/gencode.v26.annotation.gtf.gz) used in the GTEx analyses. Set the data filepaths accordingly:"
      ]
    },
    {
      "cell_type": "code",
      "execution_count": null,
      "metadata": {
        "id": "mCbl_TELb9m-"
      },
      "outputs": [],
      "source": [
        "GTEX_DATA_DIR = '/content/drive/MyDrive/BimaProject/Modig1/Test3/GTEx_Analysis_v8_eQTL'\n",
        "GENCODE_GTF = '/content/drive/MyDrive/BimaProject/Modig1/Test3/gencode.v26.annotation.gtf'\n",
        "SEI_DIR = '/content/drive/MyDrive/BimaProject'"
      ]
    },
    {
      "cell_type": "code",
      "execution_count": null,
      "metadata": {
        "id": "uAgDn5YOb9nA"
      },
      "outputs": [],
      "source": [
        "ensg_gene_coordinates = {}\n",
        "with open(GENCODE_GTF, 'r') as fh:\n",
        "    for line in fh:\n",
        "        if '##' in line:\n",
        "            continue\n",
        "        cols = line.strip().split('\\t')\n",
        "        coordinates = (cols[0], int(cols[3]), int(cols[4]))\n",
        "        ensg_id = cols[8].split(';')[0].split(' ')[1][1:-1]\n",
        "        ensg_gene_coordinates[ensg_id] = coordinates"
      ]
    },
    {
      "cell_type": "markdown",
      "metadata": {
        "id": "G3A-vAftb9nA"
      },
      "source": [
        "Collect eQTLs for a tissue +/- `N_FROM_TSS` of any gene."
      ]
    },
    {
      "cell_type": "code",
      "execution_count": null,
      "metadata": {
        "scrolled": true,
        "colab": {
          "base_uri": "https://localhost:8080/"
        },
        "id": "1fOc3XYob9nB",
        "outputId": "e9a7d2c4-716a-4263-f06a-94d680c2ee8f"
      },
      "outputs": [
        {
          "output_type": "stream",
          "name": "stdout",
          "text": [
            "Processing Adipose_Subcutaneous\n",
            "Processing Adrenal_Gland\n",
            "Processing Adipose_Visceral_Omentum\n",
            "Processing Artery_Aorta\n",
            "Processing Brain_Caudate_basal_ganglia\n",
            "Processing Artery_Coronary\n",
            "Processing Brain_Amygdala\n",
            "Processing Brain_Anterior_cingulate_cortex_BA24\n",
            "Processing Brain_Cortex\n",
            "Processing Brain_Cerebellar_Hemisphere\n",
            "Processing Brain_Cerebellum\n",
            "Processing Brain_Hippocampus\n",
            "Processing Brain_Frontal_Cortex_BA9\n",
            "Processing Brain_Nucleus_accumbens_basal_ganglia\n",
            "Processing Brain_Spinal_cord_cervical_c-1\n",
            "Processing Brain_Hypothalamus\n",
            "Processing Brain_Substantia_nigra\n",
            "Processing Brain_Putamen_basal_ganglia\n",
            "Processing Cells_EBV-transformed_lymphocytes\n",
            "Processing Breast_Mammary_Tissue\n",
            "Processing Artery_Tibial\n",
            "Processing Colon_Sigmoid\n",
            "Processing Esophagus_Gastroesophageal_Junction\n",
            "Processing Colon_Transverse\n",
            "Processing Cells_Cultured_fibroblasts\n",
            "Processing Kidney_Cortex\n",
            "Processing Heart_Left_Ventricle\n",
            "Processing Esophagus_Muscularis\n",
            "Processing Liver\n",
            "Processing Minor_Salivary_Gland\n",
            "Processing Esophagus_Mucosa\n",
            "Processing Heart_Atrial_Appendage\n",
            "Processing Muscle_Skeletal\n",
            "Processing Lung\n",
            "Processing Pituitary\n",
            "Processing Ovary\n",
            "Processing Skin_Not_Sun_Exposed_Suprapubic\n",
            "Processing Pancreas\n",
            "Processing Skin_Sun_Exposed_Lower_leg\n",
            "Processing Prostate\n",
            "Processing Small_Intestine_Terminal_Ileum\n",
            "Processing Spleen\n",
            "Processing Testis\n",
            "Processing Uterus\n",
            "Processing Vagina\n",
            "Processing Stomach\n",
            "Processing Nerve_Tibial\n",
            "Processing Whole_Blood\n",
            "Processing Thyroid\n"
          ]
        }
      ],
      "source": [
        "N_FROM_TSS = 10000\n",
        "tissue_variants_near_tss = defaultdict(list)\n",
        "for fp in glob.glob(os.path.join(GTEX_DATA_DIR, '*signif_variant_gene_pairs.txt.gz')):\n",
        "    tissue = os.path.basename(fp).split('.')[0]\n",
        "    print('Processing {0}'.format(tissue))\n",
        "    df = pd.read_csv(fp, sep='\\t')\n",
        "    for v, g in zip(df['variant_id'].tolist(), df['gene_id'].tolist()):\n",
        "        gchrom, gpos, _ = ensg_gene_coordinates[g]\n",
        "        cols = v.split('_')\n",
        "        chrom = cols[0]\n",
        "        pos = int(cols[1])\n",
        "        if pos >= gpos - N_FROM_TSS and pos <= gpos + N_FROM_TSS:\n",
        "            record = {'chrom': chrom,\n",
        "                      'pos': pos,\n",
        "                      'ref': cols[2],\n",
        "                      'alt': cols[3],\n",
        "                      'gene': g}\n",
        "            tissue_variants_near_tss[tissue].append(record)\n",
        "\n",
        "# Save to TSV file\n",
        "output_filepath = '/content/drive/MyDrive/BimaProject/Modig1/Test3/file3.tsv'  # Provide the desired output file path\n",
        "with open(output_filepath, 'w') as file:\n",
        "    # Write header\n",
        "    file.write(\"chrom\\tpos\\tref\\talt\\tgene\\n\")\n",
        "\n",
        "    # Write data\n",
        "    for tissue, records in tissue_variants_near_tss.items():\n",
        "        for record in records:\n",
        "            file.write(\"\\t\".join([str(record[key]) for key in ['chrom', 'pos', 'ref', 'alt', 'gene']]) + \"\\n\")"
      ]
    },
    {
      "cell_type": "code",
      "source": [
        "# Import and merge datasets\n",
        "filtered_data1 = pd.read_excel('/content/drive/MyDrive/BimaProject/Modig1/Merged_data_exome_filtered.xlsx')\n",
        "\n",
        "filtered_data2 = pd.read_excel('/content/drive/MyDrive/BimaProject/Modig1/Merged_data_endoseq_filtered.xlsx')\n",
        "\n",
        "# Load the previously generated file.tsv\n",
        "file_tsv_filepath = '/content/drive/MyDrive/BimaProject/Modig1/Test3/file3.tsv'  # Provide the path to your file.tsv\n",
        "file_tsv_df = pd.read_csv(file_tsv_filepath, sep='\\t')\n",
        "\n",
        "# Concatenate the dataframes along the rows\n",
        "sei_data = pd.concat([filtered_data1, filtered_data2], ignore_index=True)\n",
        "\n",
        "# Rename columns in sei_data\n",
        "sei_data.rename(columns={\n",
        "    'Chr':'chrom',\n",
        "    'Start': 'pos',\n",
        "    'REF allele': 'ref',\n",
        "    'ALT allele': 'alt'\n",
        "}, inplace=True)\n",
        "\n",
        "# Print row count before merging\n",
        "print(f\"Number of rows in sei_data_df: {len(sei_data)}\")\n",
        "print(f\"Number of rows in file_tsv_df: {len(file_tsv_df)}\")\n",
        "\n",
        "#NEW\n",
        "# Merge the two dataframes based on chromosome, position, reference allele, and alternate allele\n",
        "merged_df = pd.merge(sei_data, file_tsv_df, on=['chrom', 'pos', 'ref', 'alt'], how='inner')\n",
        "\n",
        "# Drop duplicates based on the specified columns\n",
        "merged_df = merged_df.drop_duplicates(subset=['chrom', 'pos', 'ref', 'alt'])\n",
        "\n",
        "# Print row count after merging per sample\n",
        "sample_row_counts = merged_df['Sample'].value_counts()\n",
        "print(\"Number of rows in merged_df per sample:\")\n",
        "print(sample_row_counts)\n",
        "# Print row count after merging\n",
        "print(f\"Number of rows in merged_df: {len(merged_df)}\")\n",
        "\n",
        "# Save the matching variants to a new Excel file\n",
        "output_matched_filepath = '/content/drive/MyDrive/BimaProject/Modig1/vcf/eqtl10kb_file2.xlsx'  # Provide the desired path for the output file\n",
        "merged_df.to_excel(output_matched_filepath, index=False, columns=['chrom', 'pos', 'ref', 'alt', 'Gene','GeneID','gene', 'Type', 'BioType', 'Sample'])\n",
        "\n"
      ],
      "metadata": {
        "id": "Pf6GT7on4V_u",
        "colab": {
          "base_uri": "https://localhost:8080/"
        },
        "outputId": "11245792-8a9d-42a3-d7e3-83b52609ffa4"
      },
      "execution_count": null,
      "outputs": [
        {
          "output_type": "stream",
          "name": "stdout",
          "text": [
            "Number of rows in sei_data_df: 11775\n",
            "Number of rows in file_tsv_df: 6357158\n",
            "Number of rows in merged_df per sample:\n",
            "Sample\n",
            "5E_vs_5N    191\n",
            "3E_vs_3N    153\n",
            "2E_vs_2N     27\n",
            "2O_vs_2N     10\n",
            "4O_vs_4N      6\n",
            "4E_vs_4N      6\n",
            "3B_vs_3C      4\n",
            "8B_vs_8C      3\n",
            "9B_vs_9C      3\n",
            "3O_vs_3N      2\n",
            "6O_vs_6N      2\n",
            "2B_vs_2C      2\n",
            "6B_vs_6C      2\n",
            "9A_vs_9C      1\n",
            "3A_vs_3C      1\n",
            "5O_vs_5N      1\n",
            "6E_vs_6N      1\n",
            "2A_vs_2C      1\n",
            "Name: count, dtype: int64\n",
            "Number of rows in merged_df: 416\n"
          ]
        }
      ]
    }
  ]
}